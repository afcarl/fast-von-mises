{
 "cells": [
  {
   "cell_type": "markdown",
   "metadata": {},
   "source": [
    "# Fast two-peak von Mises fit"
   ]
  },
  {
   "cell_type": "markdown",
   "metadata": {},
   "source": [
    "The two-peak von Mises to fit to data points \n",
    "$$x = \\begin{pmatrix}x_0\\\\ \\vdots \\\\ x_{N-1}\\end{pmatrix}$$ \n",
    "measured at uniformly distributed locations \n",
    "$$\\varphi = \\begin{pmatrix} \\varphi_0 \\\\ \\vdots \\\\ \\varphi_{N-1} \\end{pmatrix} \\quad \\varphi_k = \\frac{2k\\pi}{N}$$\n",
    "\n",
    "is defined as \n",
    "$$ v = a_0 + a_1 g(\\varphi) + a_2 g(\\varphi-\\pi)$$\n",
    "where\n",
    "$$g(\\varphi) = e^{-w\\left(1+\\cos(\\varphi - \\theta)\\right)}$$\n",
    "The fit has five scalar parameters $a_0$, $a_1$, $a_2$, $w$, and $\\theta$.\n",
    "\n"
   ]
  },
  {
   "cell_type": "markdown",
   "metadata": {},
   "source": [
    "## Step 1. Remove offset and orthogonalize basis:\n",
    "The least-squares fit will not be affected if both the data and the fitted functions have zero mean.  Subtracting the mean is a fast operation that does not affect the other parameters.  Therefore, let's modify the fitted functions as:\n",
    "$$\\dot g(\\varphi) = g(\\varphi) - \\bar g$$ where $\\bar g = \\sum\\limits_{k=0}^{N-1} g(\\varphi_k)$ and fit the function \n",
    "$$v=a_1 \\dot g(\\varphi) + a_2 \\dot g(\\varphi-\\pi) = a^\\top G$$ with $$a=\\begin{pmatrix}a_1 \\\\ a_2 \\end{pmatrix}$$ and \n",
    "$$G = \\begin{pmatrix} \\dot g_1^\\top(\\varphi) \\\\ \\dot g_2^\\top(\\varphi)\\end{pmatrix}$$\n",
    "to the data $\\dot x_k = x_k-\\bar x$ where $\\bar x = \\sum\\limits_{k=0}^{N-1}x_k$."
   ]
  },
  {
   "cell_type": "markdown",
   "metadata": {},
   "source": [
    "The least squares fit is then $$\\hat a = G^\\dagger \\dot x$$\n",
    "\n",
    "The pseudo-inverse matrix $$G^\\dagger(\\theta, w)= \\left(G G^\\top \\right)^{-1} G$$ is independent of $x$ and can be precomputed for a set of values of $w$ and $\\theta$ to."
   ]
  },
  {
   "cell_type": "markdown",
   "metadata": {},
   "source": [
    "## Step 2: Optimize for preferred direction\n",
    "Optimization for preferred direction is a convex problem when the sharpness is low or when the solution is close.  Therefore, we begin with low sharpness and optimize for preferred direction $\\theta$ first and for sharpness $w$ simultaneous but at a slow conservative rate.\n",
    "\n",
    "The initial estimate of $\\theta$ can be computed quickly by measuring the circular mean of the doubled angle.  \n",
    "$$\\theta_0 = \\tfrac 1 2 \\arg \\left(x^T e^{2 i \\varphi}\\right)$$\n",
    "When the underlying data are well fitted with a 2-peak von Mises, this estimate will already approach the optimal value.  We will only assume that it is within 8$^\\circ$ of the optimum and perform binary search.  Binary search with 1-degree precision will therefore take three steps."
   ]
  },
  {
   "cell_type": "code",
   "execution_count": 1,
   "metadata": {},
   "outputs": [
    {
     "name": "stdout",
     "output_type": "stream",
     "text": [
      "Populating the interactive namespace from numpy and matplotlib\n"
     ]
    }
   ],
   "source": [
    "%pylab inline"
   ]
  },
  {
   "cell_type": "code",
   "execution_count": 2,
   "metadata": {
    "collapsed": true
   },
   "outputs": [],
   "source": [
    "from vonfit import von_mises2, fit_von_mises2"
   ]
  },
  {
   "cell_type": "code",
   "execution_count": 3,
   "metadata": {},
   "outputs": [],
   "source": [
    "# model\n",
    "N = 60\n",
    "\n",
    "theta = np.random.uniform(0,2*pi)\n",
    "w = 8\n",
    "a0 = 0.5\n",
    "a1 = 3.0\n",
    "a2 = 1.2\n",
    "\n",
    "# data\n",
    "phi = r_[0:2*pi:2*pi/N]\n",
    "sigma = 1.0\n",
    "x = von_mises2(phi, a0, a1, a2, theta, w) + np.random.randn(*phi.shape)*sigma"
   ]
  },
  {
   "cell_type": "code",
   "execution_count": 4,
   "metadata": {},
   "outputs": [
    {
     "data": {
      "image/png": "[encoded data removed]",
      "text/plain": [
       "<matplotlib.figure.Figure at 0x7fb5935a1358>"
      ]
     },
     "metadata": {},
     "output_type": "display_data"
    }
   ],
   "source": [
    "# plot fit results\n",
    "t = r_[0:2*pi:pi/180]\n",
    "plot(t/pi*180, von_mises2(t, a0, a1, a2, theta, w), lw=7, alpha=0.5)\n",
    "plot(phi*180/pi, x, '.')\n",
    "\n",
    "xticks(r_[0:361:90])\n",
    "xlabel('direction')\n",
    "grid('on')\n",
    "xlim(-10, 370)\n",
    "ylim(-2*sigma, a0 + a1*(1+maximum(sigma, 0.05)*2));\n",
    "\n",
    "plot(t*180/pi, von_mises2(t, *fit_von_mises2(phi, x)[0]), lw=1, c='k')\n",
    "\n",
    "legend(('model', 'data', 'fit'));"
   ]
  },
  {
   "cell_type": "code",
   "execution_count": 5,
   "metadata": {},
   "outputs": [
    {
     "name": "stdout",
     "output_type": "stream",
     "text": [
      "668 µs ± 2.26 µs per loop (mean ± std. dev. of 7 runs, 1000 loops each)\n"
     ]
    }
   ],
   "source": [
    "%timeit fit_von_mises2(phi, x)"
   ]
  },
  {
   "cell_type": "code",
   "execution_count": null,
   "metadata": {
    "collapsed": true
   },
   "outputs": [],
   "source": []
  }
 ],
 "metadata": {
  "kernelspec": {
   "display_name": "Python 3",
   "language": "python",
   "name": "python3"
  },
  "language_info": {
   "codemirror_mode": {
    "name": "ipython",
    "version": 3
   },
   "file_extension": ".py",
   "mimetype": "text/x-python",
   "name": "python",
   "nbconvert_exporter": "python",
   "pygments_lexer": "ipython3",
   "version": "3.6.2"
  }
 },
 "nbformat": 4,
 "nbformat_minor": 2
}
