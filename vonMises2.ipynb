{
 "cells": [
  {
   "cell_type": "markdown",
   "metadata": {},
   "source": [
    "# Fast two-peak von Mises fit"
   ]
  },
  {
   "cell_type": "markdown",
   "metadata": {},
   "source": [
    "The two-peak von Mises to fit to data points \n",
    "$$x = \\begin{pmatrix}x_0\\\\ \\vdots \\\\ x_{N-1}\\end{pmatrix}$$ \n",
    "measured at uniformly distributed locations \n",
    "$$\\varphi = \\begin{pmatrix} \\varphi_0 \\\\ \\vdots \\\\ \\varphi_{N-1} \\end{pmatrix} \\quad \\varphi_k = \\frac{2k\\pi}{N}$$\n",
    "\n",
    "is defined as \n",
    "$$ v = a_0 + a_1 g(\\varphi) + a_2 g(\\varphi-\\pi)$$\n",
    "where\n",
    "$$g(\\varphi) = e^{-w\\left(1+\\cos(\\varphi - \\theta)\\right)}$$\n",
    "The fit has five scalar parameters $a_0$, $a_1$, $a_2$, $w$, and $\\theta$.\n",
    "\n"
   ]
  },
  {
   "cell_type": "markdown",
   "metadata": {},
   "source": [
    "## Step 1. Remove offset and orthogonalize basis:\n",
    "The least-squares fit will not be affected if both the data and the fitted functions have zero mean.  Subtracting the mean is a fast operation that does not affect the other parameters.  Therefore, let's modify the fitted functions as:\n",
    "$$\\dot g(\\varphi) = g(\\varphi) - \\bar g$$ where $\\bar g = \\sum\\limits_{k=0}^{N-1} g(\\varphi_k)$ and fit the function \n",
    "$$v=a_1 \\dot g(\\varphi) + a_2 \\dot g(\\varphi-\\pi) = a^\\top G$$ with $$a=\\begin{pmatrix}a_1 \\\\ a_2 \\end{pmatrix}$$ and \n",
    "$$G = \\begin{pmatrix} \\dot g_1^\\top(\\varphi) \\\\ \\dot g_2^\\top(\\varphi)\\end{pmatrix}$$\n",
    "to the data $\\dot x_k = x_k-\\bar x$ where $\\bar x = \\sum\\limits_{k=0}^{N-1}x_k$."
   ]
  },
  {
   "cell_type": "markdown",
   "metadata": {},
   "source": [
    "The least squares fit is then $$\\hat a = G^\\dagger \\dot x$$\n",
    "\n",
    "The pseudo-inverse matrix $$G^\\dagger(\\theta, w)= \\left(G G^\\top \\right)^{-1} G$$ is independent of $x$ and can be precomputed for a set of values of $w$ and $\\theta$ to."
   ]
  },
  {
   "cell_type": "markdown",
   "metadata": {},
   "source": [
    "## Step 2: Optimize for preferred direction\n",
    "Optimization for preferred direction is a convex problem when the sharpness is low or when the solution is close.  Therefore, we begin with low sharpness and optimize for preferred direction $\\theta$ first and for sharpness $w$ simultaneous but at a slow conservative rate.\n",
    "\n",
    "The initial estimate of $\\theta$ can be computed quickly by measuring the circular mean of the doubled angle.  \n",
    "$$\\theta_0 = \\tfrac 1 2 \\arg \\left(x^T e^{2 i \\varphi}\\right)$$\n",
    "When the underlying data are well fitted with a 2-peak von Mises, this estimate will already approach the optimal value.  We will only assume that it is within 8$^\\circ$ of the optimum and perform binary search.  Binary search with 1-degree precision will therefore take three steps."
   ]
  },
  {
   "cell_type": "code",
   "execution_count": 1,
   "metadata": {},
   "outputs": [
    {
     "name": "stdout",
     "output_type": "stream",
     "text": [
      "Populating the interactive namespace from numpy and matplotlib\n"
     ]
    }
   ],
   "source": [
    "%pylab inline"
   ]
  },
  {
   "cell_type": "code",
   "execution_count": 2,
   "metadata": {},
   "outputs": [],
   "source": [
    "# von Mises formulas\n",
    "def g(c, w):\n",
    "    return exp(-w*(1-c))\n",
    "\n",
    "def von(phi, a0, a1, a2, theta, w):\n",
    "    c = cos(phi-theta)\n",
    "    return a0 + a1 * g(c, w) + a2 * g(-c,w)"
   ]
  },
  {
   "cell_type": "code",
   "execution_count": 3,
   "metadata": {},
   "outputs": [],
   "source": [
    "def fit(phi, x):\n",
    "\n",
    "    # estimate theta with two-cosine fit\n",
    "    s = np.dot(x, exp(2j*phi))\n",
    "    theta = 0.5*angle(s)\n",
    "    xm = x.mean()\n",
    "    x -= xm\n",
    "    c = cos(phi-theta)\n",
    "\n",
    "    def amps(width):\n",
    "        # fit amplitudes\n",
    "        G = np.stack((g(c, width), g(-c, width)))\n",
    "        gm = G.mean(axis=1, keepdims=True)\n",
    "        a = maximum(x @ pinv(G-gm), 0)\n",
    "        d = x - a @ (G-gm)\n",
    "        return d@d, a, gm, sign(d @ (a @ (G * np.stack((1-c, 1+c)))))\n",
    "    \n",
    "    # binary search for optimal width\n",
    "    best = None\n",
    "    bounds = [0, fit.nwidths]\n",
    "    while bounds[1]-bounds[0] > 1:\n",
    "        mid = (bounds[0]+bounds[1])//2\n",
    "        candidate = amps(fit.widths[mid])\n",
    "        if best is None or best[0]>candidate[0]:\n",
    "            best = candidate\n",
    "        bounds[1 if candidate[3]>0 else 0] = mid\n",
    "        \n",
    "    _, a, gm, _ = best\n",
    "                \n",
    "    if a[0]<a[1]:\n",
    "        a = a[[1,0]]\n",
    "        theta = theta + pi\n",
    "\n",
    "    return xm-a@gm, a[0], a[1], theta % (2*pi), w\n",
    "\n",
    "fit.nwidths = 64  # make a power of two\n",
    "fit.widths = logspace(0, 1, fit.nwidths, base=30.0)"
   ]
  },
  {
   "cell_type": "code",
   "execution_count": 4,
   "metadata": {},
   "outputs": [],
   "source": [
    "# model\n",
    "N = 18\n",
    "\n",
    "theta = 293/180 * pi\n",
    "w = 3.5\n",
    "a0 = 0.5\n",
    "a1 = 3.0\n",
    "a2 = 1.2\n",
    "\n",
    "# data\n",
    "phi = r_[0:2*pi:2*pi/N]\n",
    "sigma = 0.1\n",
    "random.seed(3)\n",
    "x = von(phi, a0, a1, a2, theta, w) + np.random.randn(*phi.shape)*sigma"
   ]
  },
  {
   "cell_type": "code",
   "execution_count": 5,
   "metadata": {},
   "outputs": [
    {
     "data": {
      "image/png": "[encoded data removed]",
      "text/plain": [
       "<matplotlib.figure.Figure at 0x7f25beb66b00>"
      ]
     },
     "metadata": {},
     "output_type": "display_data"
    }
   ],
   "source": [
    "# plot fit results\n",
    "t = r_[0:2*pi:pi/180]\n",
    "plot(t/pi*180, von(t, a0, a1, a2, theta, w), lw=7, alpha=0.2)\n",
    "plot(phi*180/pi, x, '.')\n",
    "\n",
    "xticks(r_[0:361:90])\n",
    "xlabel('direction')\n",
    "grid('on')\n",
    "xlim(-10, 370)\n",
    "ylim(-2*sigma, a0 + a1*(1+maximum(sigma, 0.05)*2));\n",
    "\n",
    "plot(t*180/pi, von(t, *fit(phi, x)), lw=1, c='k', ls=':')\n",
    "\n",
    "legend(('model', 'data', 'fit'));"
   ]
  },
  {
   "cell_type": "code",
   "execution_count": 6,
   "metadata": {},
   "outputs": [
    {
     "name": "stdout",
     "output_type": "stream",
     "text": [
      "668 µs ± 3.14 µs per loop (mean ± std. dev. of 7 runs, 1000 loops each)\n"
     ]
    }
   ],
   "source": [
    "%timeit fit(phi, x)"
   ]
  },
  {
   "cell_type": "code",
   "execution_count": null,
   "metadata": {
    "collapsed": true
   },
   "outputs": [],
   "source": []
  }
 ],
 "metadata": {
  "kernelspec": {
   "display_name": "Python 3",
   "language": "python",
   "name": "python3"
  },
  "language_info": {
   "codemirror_mode": {
    "name": "ipython",
    "version": 3
   },
   "file_extension": ".py",
   "mimetype": "text/x-python",
   "name": "python",
   "nbconvert_exporter": "python",
   "pygments_lexer": "ipython3",
   "version": "3.6.2"
  }
 },
 "nbformat": 4,
 "nbformat_minor": 2
}
